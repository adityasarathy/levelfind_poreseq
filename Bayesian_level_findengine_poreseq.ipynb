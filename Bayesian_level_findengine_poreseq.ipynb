{
 "cells": [
  {
   "cell_type": "code",
   "execution_count": 1,
   "metadata": {
    "collapsed": false
   },
   "outputs": [
    {
     "data": {
      "image/png": "[encoded data removed]",
      "text/plain": [
       "<matplotlib.figure.Figure at 0x104843b00>"
      ]
     },
     "metadata": {},
     "output_type": "display_data"
    }
   ],
   "source": [
    "#generate some fake nanopore DNA sequencing data:\n",
    "import numpy as np\n",
    "import matplotlib.pyplot as plt\n",
    "si=float(4E-3)#unite is msec\n",
    "dataL=np.array([int(1E4), int(0.75*1E4),int(1.5*1E4),int(0.75*1E4),int(1E4)])\n",
    "mu=np.array([0.35, 0.2, 0.3, 0.25, 0.38])\n",
    "sigma=np.array([0.27, 0.25, 0.31, 0.22, 0.34])/20\n",
    "ttrace=np.array([])\n",
    "Itrace=np.array([])\n",
    "headt=np.zeros(len(mu))\n",
    "for i in range(len(mu)):\n",
    "    if i==0:\n",
    "        headt[i]=0\n",
    "    else:\n",
    "        headt[i]=headt[i-1]+dataL[i-1]*si\n",
    "    ttrace1=np.arange(1,dataL[i]+1,dtype=float)*si+headt[i]\n",
    "    Itrace1=np.zeros(dataL[i])+np.random.normal(mu[i],sigma[i],dataL[i])\n",
    "    ttrace=np.append(ttrace,ttrace1)\n",
    "    Itrace=np.append(Itrace,Itrace1)\n",
    "plt.plot(ttrace[:],Itrace[:])\n",
    "plt.xlabel(\"Time(msec)\")\n",
    "plt.ylabel(\"Signal(%)\")\n",
    "plt.show()\n",
    "data0=np.array([ttrace, Itrace])\n",
    "data=np.transpose(data0)\n"
   ]
  },
  {
   "cell_type": "code",
   "execution_count": 2,
   "metadata": {
    "collapsed": false
   },
   "outputs": [
    {
     "name": "stdout",
     "output_type": "stream",
     "text": [
      "sampling_rate: 250000.0   log(p_value): -9.43340392009\n",
      "The index of the first pivot point: 17499\n",
      "log_posterior_prob: -2978.0\n"
     ]
    }
   ],
   "source": [
    "from scipy.optimize import fmin\n",
    "expected_levels_per_second=20\n",
    "false_positives_per_second=1e-2#bigger will get p close to 0, model more sensitive!!!\n",
    "#set the threshholds\n",
    "sampling = data[1,0]-data[0,0] # sampling interval (s)\n",
    "fs = 1/sampling*1E3#250,000\n",
    "#filter1=1\n",
    "#k = filter1/(fs/2) # ratio of filter frequency to Nyquist frequency (if filter is Nyquist frequency, then k=1)\n",
    "log_prior = np.log(expected_levels_per_second) - np.log(fs - expected_levels_per_second)\n",
    "p = log_prior# + 1/k * np.log(false_positives_per_second/fs)\n",
    "print(\"sampling_rate:\",fs,\"  log(p_value):\", p)\n",
    "#test the time-series signal obay null hypothesis or not\n",
    "\n",
    "#fastvariance calculate the variance of the segment data with in[ind1,ind2]\n",
    "def fastvariance(data0, ind1, ind2):\n",
    "    ind2 = min(data0.shape[0]-1, int(ind2))\n",
    "    ind1 = max(0, int(ind1))\n",
    "    y1 = np.cumsum(data0[:,1]);#E(X)\n",
    "    y2 = np.cumsum(data0[:,1]*data0[:,1]);#E(X^2)\n",
    "    num = ind2-ind1;\n",
    "    mean = (y1[ind2] - y1[ind1])/num;\n",
    "    variance = (y2[ind2] - y2[ind1])/num - np.power(mean,2);#E(X^2)-E(X)^2\n",
    "    return variance\n",
    "\n",
    "#model, this segment of time-series data belong to one Gaussian distribution\n",
    "#data, the segement of time series data;\n",
    "#calculate P(M|D);\n",
    "def log_posterior_odds(data1,index,i1,i3):\n",
    "    probability = (index-i1) * 0.5*np.log(fastvariance(data1,i1,index)) +\\\n",
    "        (i3-index) * 0.5*np.log(fastvariance(data1,index,i3)) -\\\n",
    "        (i3-i1) * 0.5*np.log(fastvariance(data1,i1,i3)) +\\\n",
    "        log_prior\n",
    "    return probability\n",
    "#test the first pivot point!\n",
    "plist=lambda x: log_posterior_odds(data,x,0,data.shape[0]-1)\n",
    "xopt=fmin(plist, x0=int(data.shape[0]/2),disp=False)\n",
    "min_indx=int(xopt[0])\n",
    "print(\"The index of the first pivot point:\", min_indx)#index, change indx1, the min_indx won't change, but min_value will.\n",
    "print(\"log_posterior_prob:\",round(plist(min_indx)))"
   ]
  },
  {
   "cell_type": "code",
   "execution_count": 3,
   "metadata": {
    "collapsed": false
   },
   "outputs": [
    {
     "name": "stdout",
     "output_type": "stream",
     "text": [
      "40598 -11.0973310256\n"
     ]
    }
   ],
   "source": [
    "indx1=39999\n",
    "indx2=49999\n",
    "plist=lambda x: log_posterior_odds(data,x,indx1,indx2)\n",
    "xopt=fmin(plist, x0=int((indx1+indx2)/2)+100,disp=False)#very danger, x0 don't have limit\n",
    "min_indx=int(xopt[0])\n",
    "print(min_indx,plist(min_indx))"
   ]
  },
  {
   "cell_type": "code",
   "execution_count": 4,
   "metadata": {
    "collapsed": false
   },
   "outputs": [
    {
     "name": "stdout",
     "output_type": "stream",
     "text": [
      "All pivot points(index) along time series signal:\n",
      " [    0  9999 17499 32499 39999 49999]\n"
     ]
    }
   ],
   "source": [
    "# calculate the posterior prob recursively, find all pivot points on the time series signal\n",
    "def P_search(data,indx1,indx2,leveltran_indx):\n",
    "    minpts=100\n",
    "    p=-1263#this threshold value based on last section calculation.\n",
    "    plist=lambda x: log_posterior_odds(data,x,indx1,indx2)\n",
    "    xopt=fmin(plist, x0=int((indx1+indx2)/2),disp=False)\n",
    "    min_indx=int(xopt[0])\n",
    "    min_prob=plist(min_indx)\n",
    "    if min_prob<p:\n",
    "        leveltran_indx.append(min_indx)\n",
    "        if min_indx-indx1>minpts:\n",
    "            P_search(data,indx1,min_indx,leveltran_indx)\n",
    "        if indx2-min_indx>minpts:\n",
    "            P_search(data,min_indx,indx2,leveltran_indx)\n",
    "    return leveltran_indx\n",
    "leveltran_indx=[]\n",
    "levellist0=P_search(data,0,data.shape[0]-1,leveltran_indx)\n",
    "levellist0.append(data.shape[0]-1)\n",
    "levellist0.insert(0,0)\n",
    "levellist=np.sort(np.asarray(levellist0))\n",
    "print(\"All pivot points(index) along time series signal:\\n\",levellist)"
   ]
  },
  {
   "cell_type": "code",
   "execution_count": 5,
   "metadata": {
    "collapsed": false
   },
   "outputs": [],
   "source": [
    "#catalog all event levels based on the pivots list output before\n",
    "#use class to store all event levels' start time, end time, mean, std\n",
    "class event(object):\n",
    "    def __init__(self):\n",
    "        self.startt = []\n",
    "        self.endt = []\n",
    "        self.I_m =[]\n",
    "        self.I_std=[]\n",
    "    def addvalues(self,values):\n",
    "        self.startt.append(round(values[0],3))\n",
    "        self.endt.append(values[1])\n",
    "        self.I_m.append(values[2])\n",
    "        self.I_std.append(values[3])\n",
    "\n",
    "DNAevents = event()\n",
    "for i,j in zip(levellist[:-1],levellist[1:]):\n",
    "    startt=data[i,0]\n",
    "    endt=data[j,0]\n",
    "    I_m=np.mean(data[i:j,1])\n",
    "    I_std=np.std(data[i:j,1])\n",
    "    DNAevents.addvalues([startt,endt,I_m,I_std])\n",
    "    "
   ]
  },
  {
   "cell_type": "code",
   "execution_count": 6,
   "metadata": {
    "collapsed": false
   },
   "outputs": [
    {
     "name": "stdout",
     "output_type": "stream",
     "text": [
      "startt(msec): ['0.004', '40.000', '70.000', '130.000', '160.000']\n",
      "endt(msec): ['40.000', '70.000', '130.000', '160.000', '200.000']\n",
      "I_m(%): ['0.350', '0.200', '0.300', '0.250', '0.380']\n",
      "I_std(%): ['0.014', '0.013', '0.016', '0.011', '0.017']\n"
     ]
    },
    {
     "data": {
      "image/png": "[encoded data removed]",
      "text/plain": [
       "<matplotlib.figure.Figure at 0x10fa55d30>"
      ]
     },
     "metadata": {},
     "output_type": "display_data"
    }
   ],
   "source": [
    "#Visulization events levels along the time-series signals\n",
    "print(\"startt(msec):\", [ '%.3f' % elem for elem in DNAevents.startt ])\n",
    "print(\"endt(msec):\", [ '%.3f' % elem for elem in DNAevents.endt ])\n",
    "print(\"I_m(%):\", [ '%.3f' % elem for elem in DNAevents.I_m ])\n",
    "print(\"I_std(%):\", [ '%.3f' % elem for elem in DNAevents.I_std ])\n",
    "plt.plot(data[:,0],data[:,1],color = '0.75')\n",
    "\n",
    "for i in range(len(DNAevents.startt)):\n",
    "    timex=[DNAevents.startt[i], DNAevents.endt[i]]\n",
    "    I_lev=[DNAevents.I_m[i], DNAevents.I_m[i]]\n",
    "    plt.plot(timex,I_lev,'--r',linewidth=3)\n",
    "plt.xlabel(\"Time(msec)\",fontsize=16)\n",
    "plt.ylabel(\"Signal(%)\",fontsize=16)\n",
    "plt.title(\"Level Findengine for Nanopore_Seq \\n Bayesian statistics model\",fontsize=18)\n",
    "plt.show()"
   ]
  },
  {
   "cell_type": "code",
   "execution_count": null,
   "metadata": {
    "collapsed": true
   },
   "outputs": [],
   "source": []
  }
 ],
 "metadata": {
  "anaconda-cloud": {},
  "kernelspec": {
   "display_name": "Python [conda root]",
   "language": "python",
   "name": "conda-root-py"
  },
  "language_info": {
   "codemirror_mode": {
    "name": "ipython",
    "version": 3
   },
   "file_extension": ".py",
   "mimetype": "text/x-python",
   "name": "python",
   "nbconvert_exporter": "python",
   "pygments_lexer": "ipython3",
   "version": "3.5.2"
  }
 },
 "nbformat": 4,
 "nbformat_minor": 1
}
